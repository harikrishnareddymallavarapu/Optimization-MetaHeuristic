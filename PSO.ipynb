{
  "nbformat": 4,
  "nbformat_minor": 0,
  "metadata": {
    "colab": {
      "name": "PSO.ipynb",
      "provenance": [],
      "collapsed_sections": [],
      "authorship_tag": "ABX9TyP5qU0IN67+ijE0vuJ5j1Iq",
      "include_colab_link": true
    },
    "kernelspec": {
      "name": "python3",
      "display_name": "Python 3"
    }
  },
  "cells": [
    {
      "cell_type": "markdown",
      "metadata": {
        "id": "view-in-github",
        "colab_type": "text"
      },
      "source": [
        "<a href=\"https://colab.research.google.com/github/harikrishnareddymallavarapu/Optimization-MetaHeuristic/blob/master/PSO.ipynb\" target=\"_parent\"><img src=\"https://colab.research.google.com/assets/colab-badge.svg\" alt=\"Open In Colab\"/></a>"
      ]
    },
    {
      "cell_type": "code",
      "metadata": {
        "id": "91OyPzttFIZF",
        "colab_type": "code",
        "colab": {}
      },
      "source": [
        "import numpy as np\n",
        "import pandas as pd\n",
        "import random"
      ],
      "execution_count": null,
      "outputs": []
    },
    {
      "cell_type": "code",
      "metadata": {
        "id": "jUDqDx-mFqrp",
        "colab_type": "code",
        "colab": {}
      },
      "source": [
        "#Algo\n",
        "#V = Momentum Part + Cognitive Part + Social Part\n",
        "#Vinew = WVi + C1R1(Pbest-Xi) + C2R2(Gbest-Xi)\n",
        "#Xinew = Xi + Vinew\n",
        "\n",
        "#Momentum Part - Acts as memory of the previous flight - It restricts drastic movement and keeps it biased to previous flight\n",
        "#Cognitive Part - Quantfies the performance to its best location - Particles drawn back to their own best\n",
        "#Social Part - Quantifies the performance to its neighbours\n",
        "\n",
        "#1. Fix the population size,inertia, accelaration coefficient, max iterations\n",
        "#2. Generate Random positions and evaluate the fitness\n",
        "#3. Generate Random Velocities within the domain of the random variables\n",
        "#4. Determine the personal best and global best\n",
        "#5. Generate two set of random numbers\n",
        "#6. Determine Velocity\n",
        "#7. Determine Position\n",
        "\n"
      ],
      "execution_count": null,
      "outputs": []
    },
    {
      "cell_type": "code",
      "metadata": {
        "id": "zWQnybL3FM1z",
        "colab_type": "code",
        "colab": {}
      },
      "source": [
        "class PSO():\n",
        "  populationSize =5\n",
        "  inertiaW = 0.7\n",
        "  coefficient1 = 1.5\n",
        "  coefficient2 = 1.5\n",
        "  noOfIterations = 10\n",
        "  paramSols = np.array([])\n",
        "  funcError = np.array([])\n",
        "  personalBestError =  np.array([])\n",
        "  globalBestError = np.array([])\n",
        "  personalBestSols = np.array([])\n",
        "  globalBestSol = np.array([])\n",
        "  randomVelocities = np.array([])\n",
        "  paramBoundaries = np.array([])\n",
        "\n",
        "  def getFuncParamError(self,paramValues):\n",
        "    error=0\n",
        "    #print(paramValues)\n",
        "    for i in range(paramValues.size):\n",
        "      error= error+(paramValues[i]*paramValues[i])\n",
        "    #print(error)  \n",
        "    return error\n",
        "\n",
        "  def getFuncErrorForParamSols(self):\n",
        "    for i in range(self.populationSize):\n",
        "      error = self.getFuncParamError(self.paramSols[i])\n",
        "      self.funcError = np.append(self.funcError,[error])\n",
        "\n",
        "  def initialiseParamSols(self):\n",
        "    paramSols2 = np.array([])\n",
        "    for i in range(self.populationSize):\n",
        "      randomArray = np.zeros((0,len(self.paramBoundaries)),int)\n",
        "      for j in range(len(self.paramBoundaries)):\n",
        "        randomValue = np.array([random.randint(self.paramBoundaries[j][0],self.paramBoundaries[j][1])])\n",
        "        randomArray = np.append(randomArray,randomValue)\n",
        "      if paramSols2.size==0: \n",
        "        paramSols2 = np.array([randomArray])\n",
        "      else:\n",
        "        paramSols2 = np.vstack((paramSols2,randomArray)) \n",
        "    return paramSols2\n",
        "\n",
        "  def updateVelocities(self,rowNo):\n",
        "    #Vinew = WVi + C1R1(Pbest-Xi) + C2R2(Gbest-Xi)\n",
        "    randomVector1 = self.randomParamSols()\n",
        "    randomVector2 = self.randomParamSols()\n",
        "    self.randomVelocities[rowNo] = self.inertiaW * self.randomVelocities[rowNo] \\\n",
        "      + self.coefficient1 * randomVector1*(self.personalBestSols[rowNo]-self.paramSols[rowNo]) \\\n",
        "      + self.coefficient2 * randomVector2*(self.personalBestSols[np.argmax(self.funcError)] - self.paramSols[rowNo])\n",
        "\n",
        "  def randomParamSols(self):\n",
        "    randomArray = np.array([])\n",
        "    for i in range(len(self.paramBoundaries)):\n",
        "      randomValue = np.array([round(random.random(), 1)])\n",
        "      randomArray = np.append(randomArray,randomValue)\n",
        "    return randomArray\n",
        "\n",
        "  def adjustBoundariesForNewSol(self,newSolution):\n",
        "    for i in range(len(self.paramBoundaries)):\n",
        "      if newSolution[i]>self.paramBoundaries[i][1]:\n",
        "        newSolution[i]=self.paramBoundaries[i][1]\n",
        "      elif newSolution[i] < self.paramBoundaries[i][0]:\n",
        "        newSolution[i]=self.paramBoundaries[i][0]\n",
        "      else:\n",
        "        newSolution[i]=newSolution[i]\n",
        "    return newSolution \n",
        "\n",
        "  def executePSO(self,weight,coeff1,coeff2,popSize,totalIterations,paramRange):\n",
        "    self.populationSize = popSize\n",
        "    self.inertiaW = weight\n",
        "    self.coefficient1 = coeff1\n",
        "    self.coefficient2 = coeff2\n",
        "    self.noOfIterations = totalIterations\n",
        "    self.paramBoundaries = paramRange\n",
        "\n",
        "    if self.paramSols.size==0:\n",
        "      self.paramSols = self.initialiseParamSols()\n",
        "    \n",
        "    self.getFuncErrorForParamSols()\n",
        "    self.randomVelocities = self.initialiseParamSols()\n",
        "\n",
        "    self.personalBestSols = np.copy(self.paramSols)\n",
        "    self.personalBestError = np.copy(self.funcError)\n",
        "\n",
        "    for i in range(self.noOfIterations):\n",
        "      for j in range(0,self.populationSize):        \n",
        "        #update velocities and get the latest vector\n",
        "        self.updateVelocities(j)\n",
        "        #updating parameter\n",
        "        self.paramSols[j] = self.paramSols[j] + self.randomVelocities[j]\n",
        "        #adjusting boundaries\n",
        "        self.paramSols[j] = self.adjustBoundariesForNewSol(self.paramSols[j])\n",
        "        #calculating fitness\n",
        "        self.funcError[j] = self.getFuncParamError(self.paramSols[j])\n",
        "        if self.funcError[j]<self.personalBestError[j]:\n",
        "          #print(\"True\")\n",
        "          self.personalBestError[j] = self.funcError[j]\n",
        "          self.personalBestSols[j] = self.paramSols[j] \n",
        "\n"
      ],
      "execution_count": null,
      "outputs": []
    },
    {
      "cell_type": "code",
      "metadata": {
        "id": "QhpeOlggFN9N",
        "colab_type": "code",
        "colab": {
          "base_uri": "https://localhost:8080/",
          "height": 381
        },
        "outputId": "9af5a6bb-83e1-4e25-ff81-600b7ccd56a6"
      },
      "source": [
        "psoClass = PSO()\n",
        "psoClass.executePSO(0.7,1.5,1.5,5,20,[[10,20],[20,100]])"
      ],
      "execution_count": null,
      "outputs": [
        {
          "output_type": "stream",
          "text": [
            "True\n",
            "True\n",
            "True\n",
            "True\n",
            "True\n",
            "True\n",
            "True\n",
            "True\n",
            "True\n",
            "True\n",
            "True\n",
            "True\n",
            "True\n",
            "True\n",
            "True\n",
            "True\n",
            "True\n",
            "True\n",
            "True\n",
            "True\n",
            "True\n"
          ],
          "name": "stdout"
        }
      ]
    },
    {
      "cell_type": "code",
      "metadata": {
        "id": "47FDO1Tw2REq",
        "colab_type": "code",
        "colab": {
          "base_uri": "https://localhost:8080/",
          "height": 104
        },
        "outputId": "2cc1c787-87ea-4754-85a5-a778887be084"
      },
      "source": [
        "psoClass.personalBestSols"
      ],
      "execution_count": null,
      "outputs": [
        {
          "output_type": "execute_result",
          "data": {
            "text/plain": [
              "array([[10, 20],\n",
              "       [10, 20],\n",
              "       [10, 20],\n",
              "       [10, 20],\n",
              "       [10, 20]])"
            ]
          },
          "metadata": {
            "tags": []
          },
          "execution_count": 130
        }
      ]
    },
    {
      "cell_type": "code",
      "metadata": {
        "id": "f2LGU1mxDtL3",
        "colab_type": "code",
        "colab": {
          "base_uri": "https://localhost:8080/",
          "height": 35
        },
        "outputId": "7e72174f-3c7d-474d-d645-5408eb9d7747"
      },
      "source": [
        "psoClass.personalBestError"
      ],
      "execution_count": null,
      "outputs": [
        {
          "output_type": "execute_result",
          "data": {
            "text/plain": [
              "array([500., 500., 500., 500., 500.])"
            ]
          },
          "metadata": {
            "tags": []
          },
          "execution_count": 131
        }
      ]
    }
  ]
}